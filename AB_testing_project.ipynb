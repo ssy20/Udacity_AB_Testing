{
 "cells": [
  {
   "cell_type": "markdown",
   "metadata": {},
   "source": [
    "# Experiment Overview: Free Trial Screener"
   ]
  },
  {
   "cell_type": "markdown",
   "metadata": {},
   "source": [
    "At the time of this experiment, Udacity courses currently have two options on the course overview page: \"start free trial\", and \"access course materials\". If the student clicks \"start free trial\", they will be asked to enter their credit card information, and then they will be enrolled in a free trial for the paid version of the course. After 14 days, they will automatically be charged unless they cancel first. If the student clicks \"access course materials\", they will be able to view the videos and take the quizzes for free, but they will not receive coaching support or a verified certificate, and they will not submit their final project for feedback."
   ]
  },
  {
   "cell_type": "markdown",
   "metadata": {},
   "source": [
    "In the experiment, Udacity tested a change where if the student clicked \"start free trial\", they were asked how much time they had available to devote to the course. If the student indicated 5 or more hours per week, they would be taken through the checkout process as usual. If they indicated fewer than 5 hours per week, a message would appear indicating that Udacity courses usually require a greater time commitment for successful completion, and suggesting that the student might like to access the course materials for free. At this point, the student would have the option to continue enrolling in the free trial, or access the course materials for free instead."
   ]
  },
  {
   "cell_type": "markdown",
   "metadata": {},
   "source": [
    "The hypothesis was that this might set clearer expectations for students upfront, thus reducing the number of frustrated students who left the free trial because they didn't have enough time—without significantly reducing the number of students to continue past the free trial and eventually complete the course. If this hypothesis held true, Udacity could improve the overall student experience and improve coaches' capacity to support students who are likely to complete the course.\n",
    "\n"
   ]
  },
  {
   "cell_type": "markdown",
   "metadata": {},
   "source": [
    "The unit of diversion is a cookie, although if the student enrolls in the free trial, they are tracked by user-id from that point forward. The same user-id cannot enroll in the free trial twice. For users that do not enroll, their user-id is not tracked in the experiment, even if they were signed in when they visited the course overview page."
   ]
  },
  {
   "cell_type": "markdown",
   "metadata": {},
   "source": [
    "# Metric Choice"
   ]
  },
  {
   "cell_type": "markdown",
   "metadata": {},
   "source": [
    "### user funnel analysis"
   ]
  },
  {
   "cell_type": "markdown",
   "metadata": {},
   "source": [
    "![title](user_funnel.png)"
   ]
  },
  {
   "cell_type": "markdown",
   "metadata": {},
   "source": [
    "### Hypothesis \n",
    "\n",
    "The treatment has no effect on the number of students who continue past the free trial"
   ]
  },
  {
   "cell_type": "markdown",
   "metadata": {},
   "source": [
    "### Invariant metrics"
   ]
  },
  {
   "cell_type": "markdown",
   "metadata": {},
   "source": [
    "- The number of cookies that browse course page \n",
    "- The click through probability\n",
    "- The number of unique cookies that click on the 'start free trial' buttion\n"
   ]
  },
  {
   "cell_type": "markdown",
   "metadata": {},
   "source": [
    "### Evaluation metrics"
   ]
  },
  {
   "cell_type": "markdown",
   "metadata": {},
   "source": [
    "- Gross conversion \n",
    "- Retention \n",
    "- Net conversion "
   ]
  },
  {
   "cell_type": "markdown",
   "metadata": {},
   "source": [
    "### Measuring Standard Deviation of evaluation metrics "
   ]
  },
  {
   "cell_type": "markdown",
   "metadata": {},
   "source": [
    "- Unique cookies to view course overview page per day: 40000\n",
    "- Unique cookies to click \"Start free trial\" per day: 3200\n",
    "- Enrollments per day: 660\n",
    "- Click-through-probability on \"Start free trial\": 0.08\n",
    "- Probability of enrolling, given click: 0.20625\n",
    "- Probability of payment, given enroll: 0.53\n",
    "- Probability of payment, given click: 0.1093125"
   ]
  },
  {
   "cell_type": "code",
   "execution_count": 23,
   "metadata": {},
   "outputs": [
    {
     "data": {
      "text/html": [
       "<div>\n",
       "<style scoped>\n",
       "    .dataframe tbody tr th:only-of-type {\n",
       "        vertical-align: middle;\n",
       "    }\n",
       "\n",
       "    .dataframe tbody tr th {\n",
       "        vertical-align: top;\n",
       "    }\n",
       "\n",
       "    .dataframe thead th {\n",
       "        text-align: right;\n",
       "    }\n",
       "</style>\n",
       "<table border=\"1\" class=\"dataframe\">\n",
       "  <thead>\n",
       "    <tr style=\"text-align: right;\">\n",
       "      <th></th>\n",
       "      <th>Metric</th>\n",
       "      <th>Population</th>\n",
       "      <th>Sample</th>\n",
       "    </tr>\n",
       "  </thead>\n",
       "  <tbody>\n",
       "    <tr>\n",
       "      <th>0</th>\n",
       "      <td>Cookies</td>\n",
       "      <td>40000.000000</td>\n",
       "      <td>5000.0</td>\n",
       "    </tr>\n",
       "    <tr>\n",
       "      <th>1</th>\n",
       "      <td>Clicks</td>\n",
       "      <td>3200.000000</td>\n",
       "      <td>400.0</td>\n",
       "    </tr>\n",
       "    <tr>\n",
       "      <th>2</th>\n",
       "      <td>Enrollments</td>\n",
       "      <td>660.000000</td>\n",
       "      <td>82.5</td>\n",
       "    </tr>\n",
       "    <tr>\n",
       "      <th>3</th>\n",
       "      <td>Click-through-probability</td>\n",
       "      <td>0.080000</td>\n",
       "      <td>NaN</td>\n",
       "    </tr>\n",
       "    <tr>\n",
       "      <th>4</th>\n",
       "      <td>Gross conversion</td>\n",
       "      <td>0.206250</td>\n",
       "      <td>NaN</td>\n",
       "    </tr>\n",
       "    <tr>\n",
       "      <th>5</th>\n",
       "      <td>Retention</td>\n",
       "      <td>0.530000</td>\n",
       "      <td>NaN</td>\n",
       "    </tr>\n",
       "    <tr>\n",
       "      <th>6</th>\n",
       "      <td>Net conversion</td>\n",
       "      <td>0.109313</td>\n",
       "      <td>NaN</td>\n",
       "    </tr>\n",
       "  </tbody>\n",
       "</table>\n",
       "</div>"
      ],
      "text/plain": [
       "                      Metric    Population  Sample\n",
       "0                    Cookies  40000.000000  5000.0\n",
       "1                     Clicks   3200.000000   400.0\n",
       "2                Enrollments    660.000000    82.5\n",
       "3  Click-through-probability      0.080000     NaN\n",
       "4           Gross conversion      0.206250     NaN\n",
       "5                  Retention      0.530000     NaN\n",
       "6             Net conversion      0.109313     NaN"
      ]
     },
     "execution_count": 23,
     "metadata": {},
     "output_type": "execute_result"
    }
   ],
   "source": [
    "d = {\"Metric\": [\"Cookies\", \"Clicks\", \"Enrollments\", \"Click-through-probability\", \"Gross conversion\", \"Retention\", \"Net conversion\"], \n",
    "     \"Population\": [40000, 3200, 660, 0.08, 0.20625, 0.53, 0.109313],\n",
    "     \"Sample\": [5000, 400, 82.5, np.nan, np.nan, np.nan, np.nan]}\n",
    "dat = pd.DataFrame(data=d)\n",
    "dat"
   ]
  },
  {
   "cell_type": "markdown",
   "metadata": {},
   "source": [
    "Given a sample size of 5000 cookies visiting the course overview page, the standard error is $ \\sqrt{\\frac {(1-p)p} {n}}$"
   ]
  },
  {
   "cell_type": "code",
   "execution_count": 24,
   "metadata": {},
   "outputs": [],
   "source": [
    "dat['standard error'] = np.nan"
   ]
  },
  {
   "cell_type": "code",
   "execution_count": 26,
   "metadata": {},
   "outputs": [],
   "source": [
    "dat.iloc[4,3] = np.sqrt(dat.iloc[4,1]*(1-dat.iloc[4,1])/400)"
   ]
  },
  {
   "cell_type": "code",
   "execution_count": 27,
   "metadata": {},
   "outputs": [],
   "source": [
    "dat.iloc[5,3] = np.sqrt(dat.iloc[5,1]*(1-dat.iloc[5,1])/82.5)"
   ]
  },
  {
   "cell_type": "code",
   "execution_count": 29,
   "metadata": {},
   "outputs": [],
   "source": [
    "dat.iloc[6,3] = np.sqrt(dat.iloc[6,1]*(1-dat.iloc[6,1])/400)"
   ]
  },
  {
   "cell_type": "code",
   "execution_count": 30,
   "metadata": {},
   "outputs": [
    {
     "data": {
      "text/html": [
       "<div>\n",
       "<style scoped>\n",
       "    .dataframe tbody tr th:only-of-type {\n",
       "        vertical-align: middle;\n",
       "    }\n",
       "\n",
       "    .dataframe tbody tr th {\n",
       "        vertical-align: top;\n",
       "    }\n",
       "\n",
       "    .dataframe thead th {\n",
       "        text-align: right;\n",
       "    }\n",
       "</style>\n",
       "<table border=\"1\" class=\"dataframe\">\n",
       "  <thead>\n",
       "    <tr style=\"text-align: right;\">\n",
       "      <th></th>\n",
       "      <th>Metric</th>\n",
       "      <th>Population</th>\n",
       "      <th>Sample</th>\n",
       "      <th>standard error</th>\n",
       "    </tr>\n",
       "  </thead>\n",
       "  <tbody>\n",
       "    <tr>\n",
       "      <th>0</th>\n",
       "      <td>Cookies</td>\n",
       "      <td>40000.000000</td>\n",
       "      <td>5000.0</td>\n",
       "      <td>NaN</td>\n",
       "    </tr>\n",
       "    <tr>\n",
       "      <th>1</th>\n",
       "      <td>Clicks</td>\n",
       "      <td>3200.000000</td>\n",
       "      <td>400.0</td>\n",
       "      <td>NaN</td>\n",
       "    </tr>\n",
       "    <tr>\n",
       "      <th>2</th>\n",
       "      <td>Enrollments</td>\n",
       "      <td>660.000000</td>\n",
       "      <td>82.5</td>\n",
       "      <td>NaN</td>\n",
       "    </tr>\n",
       "    <tr>\n",
       "      <th>3</th>\n",
       "      <td>Click-through-probability</td>\n",
       "      <td>0.080000</td>\n",
       "      <td>NaN</td>\n",
       "      <td>NaN</td>\n",
       "    </tr>\n",
       "    <tr>\n",
       "      <th>4</th>\n",
       "      <td>Gross conversion</td>\n",
       "      <td>0.206250</td>\n",
       "      <td>NaN</td>\n",
       "      <td>0.020231</td>\n",
       "    </tr>\n",
       "    <tr>\n",
       "      <th>5</th>\n",
       "      <td>Retention</td>\n",
       "      <td>0.530000</td>\n",
       "      <td>NaN</td>\n",
       "      <td>0.054949</td>\n",
       "    </tr>\n",
       "    <tr>\n",
       "      <th>6</th>\n",
       "      <td>Net conversion</td>\n",
       "      <td>0.109313</td>\n",
       "      <td>NaN</td>\n",
       "      <td>0.015602</td>\n",
       "    </tr>\n",
       "  </tbody>\n",
       "</table>\n",
       "</div>"
      ],
      "text/plain": [
       "                      Metric    Population  Sample  standard error\n",
       "0                    Cookies  40000.000000  5000.0             NaN\n",
       "1                     Clicks   3200.000000   400.0             NaN\n",
       "2                Enrollments    660.000000    82.5             NaN\n",
       "3  Click-through-probability      0.080000     NaN             NaN\n",
       "4           Gross conversion      0.206250     NaN        0.020231\n",
       "5                  Retention      0.530000     NaN        0.054949\n",
       "6             Net conversion      0.109313     NaN        0.015602"
      ]
     },
     "execution_count": 30,
     "metadata": {},
     "output_type": "execute_result"
    }
   ],
   "source": [
    "dat"
   ]
  },
  {
   "cell_type": "markdown",
   "metadata": {},
   "source": [
    "### Choosing Number of Samples given Power"
   ]
  },
  {
   "cell_type": "markdown",
   "metadata": {},
   "source": [
    "Set $\\alpha = 0.05 $ and $\\beta = 0.2$\n",
    " \n",
    "- alpha: the probabilty of reject null when null is true is bounded by 0.05\n",
    "\n",
    "- 1- beta: the probability of rejecting the null hypothesis when null is false is 0.8"
   ]
  },
  {
   "cell_type": "code",
   "execution_count": 33,
   "metadata": {},
   "outputs": [],
   "source": [
    "dat['Minimum Detectable Effect'] = [np.nan, np.nan, np.nan, np.nan, 0.01, 0.01, 0.0075]\n",
    "dat['Required pageviews'] = [np.nan, np.nan, np.nan, np.nan, 645875, 4741212, 685325]"
   ]
  },
  {
   "cell_type": "code",
   "execution_count": 34,
   "metadata": {},
   "outputs": [
    {
     "data": {
      "text/html": [
       "<div>\n",
       "<style scoped>\n",
       "    .dataframe tbody tr th:only-of-type {\n",
       "        vertical-align: middle;\n",
       "    }\n",
       "\n",
       "    .dataframe tbody tr th {\n",
       "        vertical-align: top;\n",
       "    }\n",
       "\n",
       "    .dataframe thead th {\n",
       "        text-align: right;\n",
       "    }\n",
       "</style>\n",
       "<table border=\"1\" class=\"dataframe\">\n",
       "  <thead>\n",
       "    <tr style=\"text-align: right;\">\n",
       "      <th></th>\n",
       "      <th>Metric</th>\n",
       "      <th>Population</th>\n",
       "      <th>Sample</th>\n",
       "      <th>standard error</th>\n",
       "      <th>Minimum Detectable Effect</th>\n",
       "      <th>Required pageviews</th>\n",
       "    </tr>\n",
       "  </thead>\n",
       "  <tbody>\n",
       "    <tr>\n",
       "      <th>0</th>\n",
       "      <td>Cookies</td>\n",
       "      <td>40000.000000</td>\n",
       "      <td>5000.0</td>\n",
       "      <td>NaN</td>\n",
       "      <td>NaN</td>\n",
       "      <td>NaN</td>\n",
       "    </tr>\n",
       "    <tr>\n",
       "      <th>1</th>\n",
       "      <td>Clicks</td>\n",
       "      <td>3200.000000</td>\n",
       "      <td>400.0</td>\n",
       "      <td>NaN</td>\n",
       "      <td>NaN</td>\n",
       "      <td>NaN</td>\n",
       "    </tr>\n",
       "    <tr>\n",
       "      <th>2</th>\n",
       "      <td>Enrollments</td>\n",
       "      <td>660.000000</td>\n",
       "      <td>82.5</td>\n",
       "      <td>NaN</td>\n",
       "      <td>NaN</td>\n",
       "      <td>NaN</td>\n",
       "    </tr>\n",
       "    <tr>\n",
       "      <th>3</th>\n",
       "      <td>Click-through-probability</td>\n",
       "      <td>0.080000</td>\n",
       "      <td>NaN</td>\n",
       "      <td>NaN</td>\n",
       "      <td>NaN</td>\n",
       "      <td>NaN</td>\n",
       "    </tr>\n",
       "    <tr>\n",
       "      <th>4</th>\n",
       "      <td>Gross conversion</td>\n",
       "      <td>0.206250</td>\n",
       "      <td>NaN</td>\n",
       "      <td>0.020231</td>\n",
       "      <td>0.0100</td>\n",
       "      <td>645875.0</td>\n",
       "    </tr>\n",
       "    <tr>\n",
       "      <th>5</th>\n",
       "      <td>Retention</td>\n",
       "      <td>0.530000</td>\n",
       "      <td>NaN</td>\n",
       "      <td>0.054949</td>\n",
       "      <td>0.0100</td>\n",
       "      <td>4741212.0</td>\n",
       "    </tr>\n",
       "    <tr>\n",
       "      <th>6</th>\n",
       "      <td>Net conversion</td>\n",
       "      <td>0.109313</td>\n",
       "      <td>NaN</td>\n",
       "      <td>0.015602</td>\n",
       "      <td>0.0075</td>\n",
       "      <td>685325.0</td>\n",
       "    </tr>\n",
       "  </tbody>\n",
       "</table>\n",
       "</div>"
      ],
      "text/plain": [
       "                      Metric    Population  Sample  standard error  \\\n",
       "0                    Cookies  40000.000000  5000.0             NaN   \n",
       "1                     Clicks   3200.000000   400.0             NaN   \n",
       "2                Enrollments    660.000000    82.5             NaN   \n",
       "3  Click-through-probability      0.080000     NaN             NaN   \n",
       "4           Gross conversion      0.206250     NaN        0.020231   \n",
       "5                  Retention      0.530000     NaN        0.054949   \n",
       "6             Net conversion      0.109313     NaN        0.015602   \n",
       "\n",
       "   Minimum Detectable Effect  Required pageviews  \n",
       "0                        NaN                 NaN  \n",
       "1                        NaN                 NaN  \n",
       "2                        NaN                 NaN  \n",
       "3                        NaN                 NaN  \n",
       "4                     0.0100            645875.0  \n",
       "5                     0.0100           4741212.0  \n",
       "6                     0.0075            685325.0  "
      ]
     },
     "execution_count": 34,
     "metadata": {},
     "output_type": "execute_result"
    }
   ],
   "source": [
    "dat"
   ]
  },
  {
   "cell_type": "markdown",
   "metadata": {},
   "source": [
    "### Choosing Duration vs. Exposure"
   ]
  },
  {
   "cell_type": "markdown",
   "metadata": {},
   "source": [
    "If the change is not risky, we might want a larger fraction of population to be exposed to the experiment so that we can get results faster. However, even if we decide to make the change visible to entire population, it requires more than 100 days to get enough pageviews to measure the effect on retention. Therefore, we should focus on gross conversion and net conversion instead.\n",
    "\n",
    "Suppose we want the entire population to be exposed to the change, then we can get result within 18 days."
   ]
  },
  {
   "cell_type": "code",
   "execution_count": 35,
   "metadata": {},
   "outputs": [],
   "source": [
    "def calculate_days(fraction, required_size):\n",
    "    return required_size/(fraction*40000)"
   ]
  },
  {
   "cell_type": "code",
   "execution_count": 37,
   "metadata": {},
   "outputs": [
    {
     "data": {
      "text/plain": [
       "17.133125"
      ]
     },
     "execution_count": 37,
     "metadata": {},
     "output_type": "execute_result"
    }
   ],
   "source": [
    "calculate_days(1, 685325)"
   ]
  },
  {
   "cell_type": "markdown",
   "metadata": {},
   "source": [
    "# Experiment Analysis"
   ]
  },
  {
   "cell_type": "markdown",
   "metadata": {},
   "source": [
    "### Sanity checks \n",
    "\n",
    "Checking whether invariant metrics are equivalent between the two groups by computing confidence intervals. We should not proceed to the rest of the analysis unless all sanity checks pass.\n",
    "\n",
    "Given the data observed, all the invariant metrics pass the sanity check"
   ]
  },
  {
   "cell_type": "code",
   "execution_count": 38,
   "metadata": {},
   "outputs": [],
   "source": [
    "raw_data = pd.read_excel('results.xlsx', sheet_name=None)"
   ]
  },
  {
   "cell_type": "code",
   "execution_count": 44,
   "metadata": {},
   "outputs": [],
   "source": [
    "control = raw_data['Control']"
   ]
  },
  {
   "cell_type": "code",
   "execution_count": 45,
   "metadata": {},
   "outputs": [],
   "source": [
    "exp = raw_data['Experiment']"
   ]
  },
  {
   "cell_type": "code",
   "execution_count": 46,
   "metadata": {
    "scrolled": true
   },
   "outputs": [
    {
     "data": {
      "text/html": [
       "<div>\n",
       "<style scoped>\n",
       "    .dataframe tbody tr th:only-of-type {\n",
       "        vertical-align: middle;\n",
       "    }\n",
       "\n",
       "    .dataframe tbody tr th {\n",
       "        vertical-align: top;\n",
       "    }\n",
       "\n",
       "    .dataframe thead th {\n",
       "        text-align: right;\n",
       "    }\n",
       "</style>\n",
       "<table border=\"1\" class=\"dataframe\">\n",
       "  <thead>\n",
       "    <tr style=\"text-align: right;\">\n",
       "      <th></th>\n",
       "      <th>Date</th>\n",
       "      <th>Pageviews</th>\n",
       "      <th>Clicks</th>\n",
       "      <th>Enrollments</th>\n",
       "      <th>Payments</th>\n",
       "    </tr>\n",
       "  </thead>\n",
       "  <tbody>\n",
       "    <tr>\n",
       "      <th>0</th>\n",
       "      <td>Sat, Oct 11</td>\n",
       "      <td>7716</td>\n",
       "      <td>686</td>\n",
       "      <td>105.0</td>\n",
       "      <td>34.0</td>\n",
       "    </tr>\n",
       "    <tr>\n",
       "      <th>1</th>\n",
       "      <td>Sun, Oct 12</td>\n",
       "      <td>9288</td>\n",
       "      <td>785</td>\n",
       "      <td>116.0</td>\n",
       "      <td>91.0</td>\n",
       "    </tr>\n",
       "    <tr>\n",
       "      <th>2</th>\n",
       "      <td>Mon, Oct 13</td>\n",
       "      <td>10480</td>\n",
       "      <td>884</td>\n",
       "      <td>145.0</td>\n",
       "      <td>79.0</td>\n",
       "    </tr>\n",
       "    <tr>\n",
       "      <th>3</th>\n",
       "      <td>Tue, Oct 14</td>\n",
       "      <td>9867</td>\n",
       "      <td>827</td>\n",
       "      <td>138.0</td>\n",
       "      <td>92.0</td>\n",
       "    </tr>\n",
       "    <tr>\n",
       "      <th>4</th>\n",
       "      <td>Wed, Oct 15</td>\n",
       "      <td>9793</td>\n",
       "      <td>832</td>\n",
       "      <td>140.0</td>\n",
       "      <td>94.0</td>\n",
       "    </tr>\n",
       "  </tbody>\n",
       "</table>\n",
       "</div>"
      ],
      "text/plain": [
       "          Date  Pageviews  Clicks  Enrollments  Payments\n",
       "0  Sat, Oct 11       7716     686        105.0      34.0\n",
       "1  Sun, Oct 12       9288     785        116.0      91.0\n",
       "2  Mon, Oct 13      10480     884        145.0      79.0\n",
       "3  Tue, Oct 14       9867     827        138.0      92.0\n",
       "4  Wed, Oct 15       9793     832        140.0      94.0"
      ]
     },
     "execution_count": 46,
     "metadata": {},
     "output_type": "execute_result"
    }
   ],
   "source": [
    "exp.head()"
   ]
  },
  {
   "cell_type": "code",
   "execution_count": 70,
   "metadata": {},
   "outputs": [],
   "source": [
    "sanity_check = pd.DataFrame()"
   ]
  },
  {
   "cell_type": "code",
   "execution_count": 71,
   "metadata": {},
   "outputs": [],
   "source": [
    "# construct confidence interval for pageviews\n",
    "control_pageviews = control['Pageviews'].sum()\n",
    "exp_pageviews = exp['Pageviews'].sum()\n",
    "observed_pageview = control_pageviews/(exp_pageviews + control_pageviews)\n",
    "mu = 0.5\n",
    "se = np.sqrt(mu*(1-mu)/(exp_pageviews+control_pageviews))\n",
    "pageview_right = se*1.96 + 0.5\n",
    "pageview_left = 0.5 - 1.96*se"
   ]
  },
  {
   "cell_type": "code",
   "execution_count": 72,
   "metadata": {},
   "outputs": [],
   "source": [
    "sanity_check['metrics'] = ['pageview', 'clicks', 'click_through_prob']\n",
    "sanity_check['CI_left'] = [pageview_left, np.nan, np.nan]\n",
    "sanity_check['CI_right'] = [pageview_right, np.nan, np.nan]\n",
    "sanity_check['observed'] = [observed, np.nan, np.nan]"
   ]
  },
  {
   "cell_type": "code",
   "execution_count": 73,
   "metadata": {},
   "outputs": [],
   "source": [
    "# construct confidence interval for clicks \n",
    "control_clicks = control['Clicks'].sum()\n",
    "exp_clicks = exp['Clicks'].sum()\n",
    "observed_click = control_clicks/(exp_clicks + control_clicks)\n",
    "mu = 0.5\n",
    "se = np.sqrt(mu*(1-mu)/(exp_clicks + control_clicks))\n",
    "click_right = se*1.96 + 0.5\n",
    "click_left = 0.5 - 1.96*se"
   ]
  },
  {
   "cell_type": "code",
   "execution_count": 74,
   "metadata": {},
   "outputs": [],
   "source": [
    "sanity_check['metrics'] = ['pageview', 'clicks', 'click_through_prob']\n",
    "sanity_check['CI_left'] = [pageview_left, click_left, np.nan]\n",
    "sanity_check['CI_right'] = [pageview_right, click_right, np.nan]\n",
    "sanity_check['observed'] = [observed_pageview, observed_click, np.nan]"
   ]
  },
  {
   "cell_type": "code",
   "execution_count": 83,
   "metadata": {},
   "outputs": [],
   "source": [
    "# construct confidence interval for click through probability\n",
    "control_prob = control[\"Clicks\"].sum()/control[\"Pageviews\"].sum()\n",
    "exp_prob = exp[\"Clicks\"].sum()/exp[\"Pageviews\"].sum()\n",
    "observed_prob = exp_prob -control_prob \n",
    "mu = 0\n",
    "se_control = (control_prob*(1-control_prob))**0.5\n",
    "se_exp = (exp_prob*(1-exp_prob))**0.5\n",
    "se_diff = (se_control**2/control[\"Pageviews\"].sum()+se_exp**2/exp[\"Pageviews\"].sum())**0.5\n",
    "prob_left = -1.96*se_diff\n",
    "prob_right = 1.96*se_diff"
   ]
  },
  {
   "cell_type": "code",
   "execution_count": 85,
   "metadata": {},
   "outputs": [],
   "source": [
    "sanity_check['metrics'] = ['pageview', 'clicks', 'click_through_prob']\n",
    "sanity_check['CI_left'] = [pageview_left, click_left, prob_left]\n",
    "sanity_check['CI_right'] = [pageview_right, click_right, prob_right]\n",
    "sanity_check['observed'] = [observed_pageview, observed_click, observed_prob]"
   ]
  },
  {
   "cell_type": "code",
   "execution_count": 86,
   "metadata": {},
   "outputs": [
    {
     "data": {
      "text/html": [
       "<div>\n",
       "<style scoped>\n",
       "    .dataframe tbody tr th:only-of-type {\n",
       "        vertical-align: middle;\n",
       "    }\n",
       "\n",
       "    .dataframe tbody tr th {\n",
       "        vertical-align: top;\n",
       "    }\n",
       "\n",
       "    .dataframe thead th {\n",
       "        text-align: right;\n",
       "    }\n",
       "</style>\n",
       "<table border=\"1\" class=\"dataframe\">\n",
       "  <thead>\n",
       "    <tr style=\"text-align: right;\">\n",
       "      <th></th>\n",
       "      <th>metrics</th>\n",
       "      <th>CI_left</th>\n",
       "      <th>CI_right</th>\n",
       "      <th>observed</th>\n",
       "    </tr>\n",
       "  </thead>\n",
       "  <tbody>\n",
       "    <tr>\n",
       "      <th>0</th>\n",
       "      <td>pageview</td>\n",
       "      <td>0.498820</td>\n",
       "      <td>0.501180</td>\n",
       "      <td>0.500640</td>\n",
       "    </tr>\n",
       "    <tr>\n",
       "      <th>1</th>\n",
       "      <td>clicks</td>\n",
       "      <td>0.495884</td>\n",
       "      <td>0.504116</td>\n",
       "      <td>0.500467</td>\n",
       "    </tr>\n",
       "    <tr>\n",
       "      <th>2</th>\n",
       "      <td>click_through_prob</td>\n",
       "      <td>-0.001296</td>\n",
       "      <td>0.001296</td>\n",
       "      <td>0.000057</td>\n",
       "    </tr>\n",
       "  </tbody>\n",
       "</table>\n",
       "</div>"
      ],
      "text/plain": [
       "              metrics   CI_left  CI_right  observed\n",
       "0            pageview  0.498820  0.501180  0.500640\n",
       "1              clicks  0.495884  0.504116  0.500467\n",
       "2  click_through_prob -0.001296  0.001296  0.000057"
      ]
     },
     "execution_count": 86,
     "metadata": {},
     "output_type": "execute_result"
    }
   ],
   "source": [
    "sanity_check"
   ]
  },
  {
   "cell_type": "markdown",
   "metadata": {},
   "source": [
    "### Check for Practical and Statistical Significance"
   ]
  },
  {
   "cell_type": "markdown",
   "metadata": {},
   "source": [
    "For evaluation metrics, calculate a confidence interval for the difference between the experiment and control groups, and check whether each metric is statistically and/or practically significance. A metric is statistically significant if the confidence interval does not include 0 (that is, we can be confident there was a change), and it is practically significant if the confidence interval does not include the practical significance boundary (that is, we can be confident there is a change that matters to the business.)\n"
   ]
  },
  {
   "cell_type": "code",
   "execution_count": 88,
   "metadata": {},
   "outputs": [
    {
     "data": {
      "text/plain": [
       "423525"
      ]
     },
     "execution_count": 88,
     "metadata": {},
     "output_type": "execute_result"
    }
   ],
   "source": [
    "# true sample size is smaller than our desired sample size \n",
    "test_result = pd.DataFrame()\n",
    "sample_size = control.iloc[:23][\"Pageviews\"].sum()+exp.iloc[:23][\"Pageviews\"].sum()\n",
    "sample_size"
   ]
  },
  {
   "cell_type": "code",
   "execution_count": 110,
   "metadata": {},
   "outputs": [],
   "source": [
    "# two_tailed Z test for gross conversion\n",
    "control_gross = control.iloc[:23]['Enrollments'].sum()/control.iloc[:23][\"Clicks\"].sum()\n",
    "exp_gross = exp.iloc[:23]['Enrollments'].sum()/exp.iloc[:23][\"Clicks\"].sum()\n",
    "observed_gross = exp_gross - control_gross\n",
    "mu = 0\n",
    "se_control = (control_gross*(1-control_gross))**0.5\n",
    "se_exp = (exp_gross*(1-exp_gross))**0.5\n",
    "se_diff = (se_control**2/control.iloc[:23][\"Clicks\"].sum()+se_exp**2/exp.iloc[:23][\"Clicks\"].sum())**0.5\n",
    "\n",
    "gross_left = -1.96*se_diff + observed_gross\n",
    "gross_right = 1.96*se_diff + observed_gross"
   ]
  },
  {
   "cell_type": "code",
   "execution_count": 111,
   "metadata": {},
   "outputs": [],
   "source": [
    "test_result['metric'] = ['gross conversion', 'net conversion']\n",
    "test_result['CL_left'] = [gross_left, np.nan]\n",
    "test_result['CL_right'] = [gross_right, np.nan]\n",
    "test_result['observed_difference'] = [observed_gross, np.nan]\n",
    "test_result['minimal_pratical_diff'] = [0.01, np.nan]\n",
    "test_result['statistically_significant'] = [True, np.nan]\n",
    "test_result['practically_significant'] = [True, np.nan]"
   ]
  },
  {
   "cell_type": "code",
   "execution_count": 112,
   "metadata": {},
   "outputs": [],
   "source": [
    "# two_tailed Z test for net conversion\n",
    "control_net = control.iloc[:23]['Payments'].sum()/control.iloc[:23][\"Clicks\"].sum()\n",
    "exp_net = exp.iloc[:23]['Payments'].sum()/exp.iloc[:23][\"Clicks\"].sum()\n",
    "observed_net = exp_net - control_net\n",
    "se_control = (control_net*(1-control_net))**0.5\n",
    "se_exp = (exp_net*(1-exp_net))**0.5\n",
    "se_diff = (se_control**2/control.iloc[:23][\"Clicks\"].sum()+se_exp**2/exp.iloc[:23][\"Clicks\"].sum())**0.5\n",
    "\n",
    "net_left = -1.96*se_diff + observed_net\n",
    "net_right = 1.96*se_diff + observed_net\n"
   ]
  },
  {
   "cell_type": "code",
   "execution_count": 117,
   "metadata": {},
   "outputs": [],
   "source": [
    "test_result['metric'] = ['gross conversion', 'net conversion']\n",
    "test_result['CL_left'] = [gross_left, net_left]\n",
    "test_result['CL_right'] = [gross_right, net_right]\n",
    "test_result['observed_difference'] = [observed_gross, observed_net]\n",
    "test_result['minimal_pratical_diff'] = [0.01, 0.0075]\n",
    "test_result['statistically_significant'] = [True, False]\n",
    "test_result['practically_significant'] = [True, False]"
   ]
  },
  {
   "cell_type": "code",
   "execution_count": 118,
   "metadata": {},
   "outputs": [
    {
     "data": {
      "text/html": [
       "<div>\n",
       "<style scoped>\n",
       "    .dataframe tbody tr th:only-of-type {\n",
       "        vertical-align: middle;\n",
       "    }\n",
       "\n",
       "    .dataframe tbody tr th {\n",
       "        vertical-align: top;\n",
       "    }\n",
       "\n",
       "    .dataframe thead th {\n",
       "        text-align: right;\n",
       "    }\n",
       "</style>\n",
       "<table border=\"1\" class=\"dataframe\">\n",
       "  <thead>\n",
       "    <tr style=\"text-align: right;\">\n",
       "      <th></th>\n",
       "      <th>metric</th>\n",
       "      <th>CL_left</th>\n",
       "      <th>CL_right</th>\n",
       "      <th>observed_difference</th>\n",
       "      <th>minimal_pratical_diff</th>\n",
       "      <th>statistically_significant</th>\n",
       "      <th>practically_significant</th>\n",
       "    </tr>\n",
       "  </thead>\n",
       "  <tbody>\n",
       "    <tr>\n",
       "      <th>0</th>\n",
       "      <td>gross conversion</td>\n",
       "      <td>-0.029120</td>\n",
       "      <td>-0.011989</td>\n",
       "      <td>-0.020555</td>\n",
       "      <td>0.0100</td>\n",
       "      <td>True</td>\n",
       "      <td>True</td>\n",
       "    </tr>\n",
       "    <tr>\n",
       "      <th>1</th>\n",
       "      <td>net conversion</td>\n",
       "      <td>-0.011604</td>\n",
       "      <td>0.001857</td>\n",
       "      <td>-0.004874</td>\n",
       "      <td>0.0075</td>\n",
       "      <td>False</td>\n",
       "      <td>False</td>\n",
       "    </tr>\n",
       "  </tbody>\n",
       "</table>\n",
       "</div>"
      ],
      "text/plain": [
       "             metric   CL_left  CL_right  observed_difference  \\\n",
       "0  gross conversion -0.029120 -0.011989            -0.020555   \n",
       "1    net conversion -0.011604  0.001857            -0.004874   \n",
       "\n",
       "   minimal_pratical_diff  statistically_significant  practically_significant  \n",
       "0                 0.0100                       True                     True  \n",
       "1                 0.0075                      False                    False  "
      ]
     },
     "execution_count": 118,
     "metadata": {},
     "output_type": "execute_result"
    }
   ],
   "source": [
    "test_result"
   ]
  },
  {
   "cell_type": "markdown",
   "metadata": {},
   "source": [
    "#  Interpretation of Test Results "
   ]
  },
  {
   "cell_type": "markdown",
   "metadata": {},
   "source": [
    "In this experiemnt, we are testing the assumption that adding a Free Trial Screener will reduce the number of frustrated students who left the free trial because they didn't have enough time—without significantly reducing the number of students to continue past the free trial and eventually complete the course. If the assumption is true, we would expect to see a decrease in Gross Conversion and an increase in Retention. Also, the Net Conversion should be unchanged. \n",
    "\n",
    "Based on the results, a statistically and practically signficant decrease in Gross Conversion was observed but we are not sure about the effect of this sceener on Net Conversion. Given these results, we can only tell that the Free Trial Screener indeed help to set clearer expectations for students upfront. Based on the result of this experiment, I would recommend not to roll out this feature since this feature might actually decrease revenue. \n",
    "\n",
    "\n"
   ]
  }
 ],
 "metadata": {
  "kernelspec": {
   "display_name": "Python 3",
   "language": "python",
   "name": "python3"
  },
  "language_info": {
   "codemirror_mode": {
    "name": "ipython",
    "version": 3
   },
   "file_extension": ".py",
   "mimetype": "text/x-python",
   "name": "python",
   "nbconvert_exporter": "python",
   "pygments_lexer": "ipython3",
   "version": "3.8.3"
  }
 },
 "nbformat": 4,
 "nbformat_minor": 4
}
